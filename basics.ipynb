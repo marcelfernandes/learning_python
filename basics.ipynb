{
 "cells": [
  {
   "cell_type": "markdown",
   "metadata": {},
   "source": [
    "# Language Basics\n",
    "\n",
    "| Operator | Name | Example |\n",
    "| --- | --- | --- |\n",
    "| + | Addition | 2 + 2 |\n",
    "| – | Subtraction | 3 – 1 |\n",
    "| * | Multiplication | 5 * 3 |\n",
    "| / | Division | 5 / 2 |\n",
    "| // | Floor division | 5 // 2 |\n",
    "| % | Modulus | 5 % 2 |\n",
    "| ** | Exponent | 2 ** 3 |\n",
    "\n",
    "Use underscore to get the last result (REPL only)\n",
    "\n",
    "```python\n",
    "2 + 2\n",
    "# 4\n",
    "_ * 3\n",
    "# 12\n",
    "```\n",
    "\n",
    "Escaping characters"
   ]
  },
  {
   "cell_type": "code",
   "execution_count": 4,
   "metadata": {},
   "outputs": [
    {
     "name": "stdout",
     "output_type": "stream",
     "text": [
      "I'm a programmer\n"
     ]
    }
   ],
   "source": [
    "print('I\\'m a programmer')"
   ]
  },
  {
   "cell_type": "markdown",
   "metadata": {},
   "source": [
    "Multiline strings"
   ]
  },
  {
   "cell_type": "code",
   "execution_count": 5,
   "metadata": {},
   "outputs": [
    {
     "name": "stdout",
     "output_type": "stream",
     "text": [
      "I'm a programmer\n",
      "I'm a programmer\n",
      "I'm a programmer\n"
     ]
    }
   ],
   "source": [
    "print('''I'm a programmer\n",
    "I'm a programmer\n",
    "I'm a programmer''')"
   ]
  },
  {
   "cell_type": "markdown",
   "metadata": {},
   "source": [
    "| Escaped sequence | What is does |\n",
    "| --- | --- |\n",
    "| \\n | A newline (Newlines are generated with your return key). Advances to the next |\n",
    "| \\r | Carriage return: takes you back to the start of the line, without advancing to the next line |\n",
    "| \\t | A tab character |\n",
    "| \\\\ | The slash character itself: because it is used as the start of escape sequences, we need to escape this character too. Python is quite forgiving if you forget to escape it, though. |\n",
    "\n",
    "String concatenation"
   ]
  },
  {
   "cell_type": "code",
   "execution_count": 6,
   "metadata": {},
   "outputs": [
    {
     "name": "stdout",
     "output_type": "stream",
     "text": [
      "Hello World\n"
     ]
    }
   ],
   "source": [
    "print('Hello' + ' ' + 'World')"
   ]
  },
  {
   "cell_type": "markdown",
   "metadata": {},
   "source": [
    "String length"
   ]
  },
  {
   "cell_type": "code",
   "execution_count": 7,
   "metadata": {},
   "outputs": [
    {
     "name": "stdout",
     "output_type": "stream",
     "text": [
      "11\n"
     ]
    }
   ],
   "source": [
    "a = len('Hello World')\n",
    "print(a)"
   ]
  },
  {
   "cell_type": "markdown",
   "metadata": {},
   "source": [
    "String indexing"
   ]
  },
  {
   "cell_type": "code",
   "execution_count": 8,
   "metadata": {},
   "outputs": [
    {
     "name": "stdout",
     "output_type": "stream",
     "text": [
      "H\n",
      "d\n"
     ]
    }
   ],
   "source": [
    "msg = 'Hello World'\n",
    "print(msg[0])\n",
    "print(msg[-1])"
   ]
  },
  {
   "cell_type": "markdown",
   "metadata": {},
   "source": [
    "Slicing\n",
    "\n",
    "`mystring[start:end:step_size]`"
   ]
  },
  {
   "cell_type": "code",
   "execution_count": 9,
   "metadata": {},
   "outputs": [
    {
     "name": "stdout",
     "output_type": "stream",
     "text": [
      "dlroW olleH\n"
     ]
    }
   ],
   "source": [
    "mystring = 'Hello World'\n",
    "print(mystring[::-1])"
   ]
  },
  {
   "cell_type": "markdown",
   "metadata": {},
   "source": [
    "f-strings\n",
    "\n",
    "Similar with `$\"\"` in C#"
   ]
  },
  {
   "cell_type": "code",
   "execution_count": 10,
   "metadata": {},
   "outputs": [
    {
     "name": "stdout",
     "output_type": "stream",
     "text": [
      "My age is 25\n"
     ]
    }
   ],
   "source": [
    "my_age = 25\n",
    "print(f'My age is {my_age}')"
   ]
  },
  {
   "cell_type": "markdown",
   "metadata": {},
   "source": [
    "Quickly printing a variable"
   ]
  },
  {
   "cell_type": "code",
   "execution_count": 11,
   "metadata": {},
   "outputs": [
    {
     "name": "stdout",
     "output_type": "stream",
     "text": [
      "name='Marcel', age=38\n"
     ]
    }
   ],
   "source": [
    "name = 'Marcel'\n",
    "age = 38\n",
    "print(f'{name=}, {age=}')"
   ]
  },
  {
   "cell_type": "markdown",
   "metadata": {},
   "source": [
    "Boolean\n",
    "\n",
    "`True` and `False`\n",
    "\n",
    "## Operators\n",
    "\n",
    "```python\n",
    "2 > 1\n",
    "True\n",
    "2 < 1\n",
    "False\n",
    "2 < 3 < 4 < 5 < 6\n",
    "True\n",
    "2 < 3 > 2\n",
    "True\n",
    "3 <= 3\n",
    "True\n",
    "3 >= 2\n",
    "True\n",
    "2 == 2\n",
    "True\n",
    "4 != 5\n",
    "True\n",
    "'a' == 'a'\n",
    "True\n",
    "'a' > 'b'\n",
    "False\n",
    "```\n",
    "\n",
    "| Operator | Meaning |\n",
    "| --- | --- |\n",
    "| > | greater than |\n",
    "| < | smaller than |\n",
    "| >= | greater than or equal to |\n",
    "| <= | smaller than or equal to |\n",
    "| == | is equal |\n",
    "| != | is not equal |\n",
    "\n",
    "Uppercase letters are ‘smaller’ than lowercase letters, e.g.: ‘M’ < ‘m’\n",
    "\n",
    "Digits are smaller than letters: ‘1’ < ‘a’\n",
    "\n",
    "| Operator | What is does | Examples |\n",
    "| --- | --- | --- |\n",
    "| and | True if both statements are true | True and False == FalseFalse and False == FalseTrue and True == True |\n",
    "| or | True if one of the statements is true | True or False == TrueTrue or True == TrueFalse or False == False |\n",
    "| not | Negates the statement that follows | not True == Falsenot False == True |\n",
    "\n",
    "## Python For-loop"
   ]
  },
  {
   "cell_type": "code",
   "execution_count": 12,
   "metadata": {},
   "outputs": [
    {
     "name": "stdout",
     "output_type": "stream",
     "text": [
      "H\n",
      "e\n",
      "l\n",
      "l\n",
      "o\n",
      " \n",
      "W\n",
      "o\n",
      "r\n",
      "l\n",
      "d\n"
     ]
    }
   ],
   "source": [
    "for letter in 'Hello World':\n",
    "    print(letter)"
   ]
  },
  {
   "cell_type": "markdown",
   "metadata": {},
   "source": [
    "### Python for-loops and lists"
   ]
  },
  {
   "cell_type": "code",
   "execution_count": 13,
   "metadata": {},
   "outputs": [
    {
     "name": "stdout",
     "output_type": "stream",
     "text": [
      "1\n",
      "a\n",
      "Hellow\n"
     ]
    }
   ],
   "source": [
    "mylists = [1, 'a', 'Hellow']\n",
    "for item in mylists:\n",
    "    print(item)"
   ]
  },
  {
   "cell_type": "markdown",
   "metadata": {},
   "source": [
    "A couple of things to note:\n",
    "\n",
    "- we create lists with block quotes.\n",
    "- Its contents are objects of whatever type you like, separated by commas, and they don’t need to be of the same type.\n",
    "- We can access the individual elements of a list manually too."
   ]
  },
  {
   "cell_type": "code",
   "execution_count": 15,
   "metadata": {},
   "outputs": [
    {
     "name": "stdout",
     "output_type": "stream",
     "text": [
      "1\n",
      "3\n",
      "Hello\n",
      "b\n",
      "['a', 'b']\n"
     ]
    }
   ],
   "source": [
    "mylist = [1, 2, 'Hello', ['a', 'b']]\n",
    "print(mylist[0])\n",
    "print(mylist[0] + mylist[1])\n",
    "print(mylist[2])\n",
    "print(mylist[3][1])\n",
    "print(mylist[3])"
   ]
  },
  {
   "cell_type": "markdown",
   "metadata": {},
   "source": [
    "### Python While-loop"
   ]
  },
  {
   "cell_type": "code",
   "execution_count": 17,
   "metadata": {},
   "outputs": [
    {
     "name": "stdout",
     "output_type": "stream",
     "text": [
      "Hello 1\n",
      "Hello 2\n",
      "Hello 3\n",
      "Hello 4\n"
     ]
    }
   ],
   "source": [
    "i = 1\n",
    "while i < 5:\n",
    "    print(f'Hello {i}')\n",
    "    i += 1"
   ]
  },
  {
   "cell_type": "markdown",
   "metadata": {},
   "source": [
    "## Functions"
   ]
  },
  {
   "cell_type": "code",
   "execution_count": 2,
   "metadata": {},
   "outputs": [
    {
     "name": "stdout",
     "output_type": "stream",
     "text": [
      "Hi learner welcome to this tutorial\n",
      "Hi John welcome to this tutorial\n",
      "Hi learner welcome to this epic tutorial\n",
      "Hi John welcome to this epic tutorial\n"
     ]
    }
   ],
   "source": [
    "def welcome(name='learner', location='this tutorial'):\n",
    "    print(\"Hi\", name, \"welcome to\", location)\n",
    "\n",
    "welcome()\n",
    "welcome(name='John')\n",
    "welcome(location='this epic tutorial')\n",
    "welcome('John', 'this epic tutorial')"
   ]
  },
  {
   "cell_type": "code",
   "execution_count": 6,
   "metadata": {},
   "outputs": [
    {
     "name": "stdout",
     "output_type": "stream",
     "text": [
      "Hi there...\n",
      "M\n",
      "a\n",
      "r\n",
      "c\n",
      "e\n",
      "l\n"
     ]
    }
   ],
   "source": [
    "def say_hi(name):\n",
    "    if name == '':\n",
    "        print(\"You didn't enter your name!\")\n",
    "    else:\n",
    "        print(\"Hi there...\")\n",
    "        for letter in name:\n",
    "            print(letter)\n",
    "\n",
    "say_hi('Marcel')\n"
   ]
  }
 ],
 "metadata": {
  "kernelspec": {
   "display_name": ".env",
   "language": "python",
   "name": "python3"
  },
  "language_info": {
   "codemirror_mode": {
    "name": "ipython",
    "version": 3
   },
   "file_extension": ".py",
   "mimetype": "text/x-python",
   "name": "python",
   "nbconvert_exporter": "python",
   "pygments_lexer": "ipython3",
   "version": "3.10.12"
  }
 },
 "nbformat": 4,
 "nbformat_minor": 2
}
