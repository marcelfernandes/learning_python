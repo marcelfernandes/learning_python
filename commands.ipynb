{
 "cells": [
  {
   "cell_type": "markdown",
   "metadata": {},
   "source": [
    "# Commands\n",
    "\n",
    "Create virtual environment\n",
    "```bash\n",
    "python3 -m venv .env\n",
    "```\n",
    "\n",
    "Activate virtual environment\n",
    "```bash\n",
    "source .env/bin/activate\n",
    "```\n",
    "\n",
    "Install pandas library\n",
    "```bash\n",
    "pip3 install pandas\n",
    "```\n",
    "\n",
    "Start python REPL (Read-Eval-Print Loop) - Interactive shell (after python-is-python3)\n",
    "```bash\n",
    "python\n",
    "```\n",
    "\n",
    "Exit python REPL\n",
    "```bash\n",
    "exit()\n",
    "```\n",
    "OR\n",
    "```bash\n",
    "Ctrl + D\n",
    "```\n",
    "\n",
    "Run python script\n",
    "```bash\n",
    "python3 script.py\n",
    "```"
   ]
  }
 ],
 "metadata": {
  "language_info": {
   "name": "python"
  }
 },
 "nbformat": 4,
 "nbformat_minor": 2
}
