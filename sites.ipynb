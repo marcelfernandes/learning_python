{
 "cells": [
  {
   "cell_type": "markdown",
   "metadata": {},
   "source": [
    "# Sites\n",
    "\n",
    "Module Index\n",
    "\n",
    "[Python Module Index — Python 3.12.2 documentation](https://docs.python.org/3/py-modindex.html)\n",
    "\n",
    "Docs: \n",
    "\n",
    "[3.12.2 Documentation](https://docs.python.org/3/)\n",
    "\n",
    "Standard Library\n",
    "\n",
    "[The Python Standard Library](https://docs.python.org/3/library/)\n",
    "\n",
    "Language Reference\n",
    "\n",
    "[The Python Language Reference](https://docs.python.org/3/reference/)\n",
    "\n",
    "[MovingToPythonFromOtherLanguages - Python Wiki](https://wiki.python.org/moin/MovingToPythonFromOtherLanguages)\n",
    "\n",
    "Strings\n",
    "\n",
    "[Python String: Working With Text](https://python.land/introduction-to-python/strings)"
   ]
  }
 ],
 "metadata": {
  "language_info": {
   "name": "python"
  }
 },
 "nbformat": 4,
 "nbformat_minor": 2
}
