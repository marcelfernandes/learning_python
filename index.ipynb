{
 "cells": [
  {
   "cell_type": "markdown",
   "metadata": {},
   "source": [
    "# Python\n",
    "\n",
    "> Read the Tutorial once, skim the Library Reference .. at least the table of contents, then skim the Language Reference and you will probably have encountered everything you need.\n",
    "\n",
    "```text/plain\n",
    "Python indexes and slices for a six-element list.\n",
    "Indexes enumerate the elements, slices enumerate the spaces between the elements.\n",
    "\n",
    "Index from rear:    -6  -5  -4  -3  -2  -1      a=[0,1,2,3,4,5]    a[1:]==[1,2,3,4,5]\n",
    "Index from front:    0   1   2   3   4   5      len(a)==6          a[:5]==[0,1,2,3,4]\n",
    "                   +---+---+---+---+---+---+    a[0]==0            a[:-2]==[0,1,2,3]\n",
    "                   | a | b | c | d | e | f |    a[5]==5            a[1:2]==[1]\n",
    "                   +---+---+---+---+---+---+    a[-1]==5           a[1:-1]==[1,2,3,4]\n",
    "Slice from front:  :   1   2   3   4   5   :    a[-2]==4\n",
    "Slice from rear:   :  -5  -4  -3  -2  -1   :\n",
    "                                                b=a[:]\n",
    "                                                b==[0,1,2,3,4,5] (shallow copy of a)\n",
    "```"
   ]
  },
  {
   "cell_type": "markdown",
   "metadata": {},
   "source": [
    "[Sites](sites.ipynb)\n",
    "\n",
    "[Commands](commands.ipynb)\n",
    "\n",
    "[Basics](basics.ipynb)"
   ]
  }
 ],
 "metadata": {
  "language_info": {
   "name": "python"
  }
 },
 "nbformat": 4,
 "nbformat_minor": 2
}
